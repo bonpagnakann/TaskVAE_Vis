{
 "cells": [
  {
   "cell_type": "markdown",
   "id": "24fd3d0d-fd55-4498-981c-8561678aba0a",
   "metadata": {},
   "source": [
    "## Experimental Results of Participant 1 (P1)\n",
    "\n",
    "The table below presents a summary of results for Participant 1 (P1). It consists of three tables, each illustrating the accuracy of all classes, new classes, and old classes across different holdout sizes in each scenario for each dataset.\n",
    "\n",
    "The evaluated methods include Random (Rand), EWC-Replay (EWC-R), iCaRL, LUCIR, and TaskVAE (with and without filtering).\n",
    "\n",
    "*For a larger view, right-click on the image and select \"Open in a new window.\"*\n"
   ]
  },
  {
   "cell_type": "code",
   "execution_count": 1,
   "id": "f084d78c-07fa-45fa-9fda-c5cda0e31f1a",
   "metadata": {},
   "outputs": [
    {
     "data": {
      "text/html": [
       "\n",
       "<style>\n",
       "    .center-table { \n",
       "        margin: auto; \n",
       "        width: 90%;  /* Increased width */\n",
       "        text-align: center;\n",
       "    }\n",
       "    .image-title {\n",
       "        font-size: 22px; /* Larger text size */\n",
       "        font-weight: bold;\n",
       "        margin-bottom: 15px;\n",
       "    }\n",
       "    .error-text {\n",
       "        font-size: 20px;\n",
       "        font-weight: bold;\n",
       "        color: red;\n",
       "    }\n",
       "</style>\n",
       "<h2 style=\"text-align:center; font-size: 26px;\">P1 Results</h2><table class=\"center-table\" border=\"1\"><tr><td><p class=\"image-title\">All Accuracy</p><img src=\"Table_Results\\P1\\P1_All_Acc.png\" width=\"1000\"></td></tr><tr><td><p class=\"image-title\">New Accuracy</p><img src=\"Table_Results\\P1\\P1_New_Acc.png\" width=\"1000\"></td></tr><tr><td><p class=\"image-title\">Old Accuracy</p><img src=\"Table_Results\\P1\\P1_Old_Acc.png\" width=\"1000\"></td></tr></table><br>"
      ],
      "text/plain": [
       "<IPython.core.display.HTML object>"
      ]
     },
     "metadata": {},
     "output_type": "display_data"
    }
   ],
   "source": []
  },
  {
   "cell_type": "code",
   "execution_count": null,
   "id": "8594bd6d-3dff-4298-8f8b-dd4273af8951",
   "metadata": {},
   "outputs": [],
   "source": []
  }
 ],
 "metadata": {
  "kernelspec": {
   "display_name": "Python 3 (ipykernel)",
   "language": "python",
   "name": "python3"
  },
  "language_info": {
   "codemirror_mode": {
    "name": "ipython",
    "version": 3
   },
   "file_extension": ".py",
   "mimetype": "text/x-python",
   "name": "python",
   "nbconvert_exporter": "python",
   "pygments_lexer": "ipython3",
   "version": "3.12.0"
  }
 },
 "nbformat": 4,
 "nbformat_minor": 5
}
