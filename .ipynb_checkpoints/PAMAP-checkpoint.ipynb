{
 "cells": [
  {
   "cell_type": "markdown",
   "id": "d2854f27-a694-4502-b297-66a73abb7581",
   "metadata": {},
   "source": [
    "## Experimental Results of PAMAP2 Dataset\n",
    "\n",
    "### Box Plot of Accuracy for All Classes by Tasks\n",
    "The box plots illustrate the accuracy of all classes in the final task for participants (P0, P1, P2) over 30 runs in each scenario. \n",
    "\n",
    "### Bar Charts of Average Metrics by Tasks \n",
    "The bar charts display accuracy metrics (all classes, new classes, and old classes) for participants (P0, P1, P2) over 30 runs across tasks in each scenario. \n",
    "\n",
    "#### Note: \n",
    "The exemplar size for replay-based methods is equivalent to the size of VAE. The methods—Random, EWC-Replay, iCaRL, LUCIR, and TaskVAE—are consistently ordered from left to right per task and are represented by different colors in the legend of each graph.\n",
    "\n",
    "*For a larger view, right-click on the image and select \"Open in a new window.\"*"
   ]
  },
  {
   "cell_type": "code",
   "execution_count": 2,
   "id": "2f886485-a7b5-4e9a-8f70-6c58e3d08d70",
   "metadata": {},
   "outputs": [
    {
     "data": {
      "text/html": [
       "<h3>PAMAP - 511111 - P0_Results</h3><table style=\"border-collapse: collapse;\"><tr><tr><td><img src=\"PAMAP\\511111\\P0_Results\\Figures\\All_Acc\\PAMAP_Box_plot_Acc_Task_6.png\" width=\"400\"></td><td><img src=\"PAMAP\\511111\\P0_Results\\Figures\\All_Acc\\PAMAP_P0_All_Acc.png\" width=\"400\"></td></tr><tr><td><img src=\"PAMAP\\511111\\P0_Results\\Figures\\New_Acc\\PAMAP_P0_New_Acc.png\" width=\"400\"></td><td><img src=\"PAMAP\\511111\\P0_Results\\Figures\\Old_Acc\\PAMAP_P0_Old_Acc.png\" width=\"400\"></td></tr></table><br>"
      ],
      "text/plain": [
       "<IPython.core.display.HTML object>"
      ]
     },
     "metadata": {},
     "output_type": "display_data"
    },
    {
     "data": {
      "text/html": [
       "<h3>PAMAP - 511111 - P1_Results</h3><table style=\"border-collapse: collapse;\"><tr><tr><td><img src=\"PAMAP\\511111\\P1_Results\\Figures\\All_Acc\\PAMAP_Box_plot_Acc_Task_6.png\" width=\"400\"></td><td><img src=\"PAMAP\\511111\\P1_Results\\Figures\\All_Acc\\PAMAP_P1_All_Acc.png\" width=\"400\"></td></tr><tr><td><img src=\"PAMAP\\511111\\P1_Results\\Figures\\New_Acc\\PAMAP_P1_New_Acc.png\" width=\"400\"></td><td><img src=\"PAMAP\\511111\\P1_Results\\Figures\\Old_Acc\\PAMAP_P1_Old_Acc.png\" width=\"400\"></td></tr></table><br>"
      ],
      "text/plain": [
       "<IPython.core.display.HTML object>"
      ]
     },
     "metadata": {},
     "output_type": "display_data"
    },
    {
     "data": {
      "text/html": [
       "<h3>PAMAP - 511111 - P2_Results</h3><table style=\"border-collapse: collapse;\"><tr><tr><td><img src=\"PAMAP\\511111\\P2_Results\\Figures\\All_Acc\\PAMAP_Box_plot_Acc_Task_6.png\" width=\"400\"></td><td><img src=\"PAMAP\\511111\\P2_Results\\Figures\\All_Acc\\PAMAP_P2_All_Acc.png\" width=\"400\"></td></tr><tr><td><img src=\"PAMAP\\511111\\P2_Results\\Figures\\New_Acc\\PAMAP_P2_New_Acc.png\" width=\"400\"></td><td><img src=\"PAMAP\\511111\\P2_Results\\Figures\\Old_Acc\\PAMAP_P2_Old_Acc.png\" width=\"400\"></td></tr></table><br>"
      ],
      "text/plain": [
       "<IPython.core.display.HTML object>"
      ]
     },
     "metadata": {},
     "output_type": "display_data"
    },
    {
     "data": {
      "text/html": [
       "<h3>PAMAP - 22222 - P0_Results</h3><table style=\"border-collapse: collapse;\"><tr><tr><td><img src=\"PAMAP\\22222\\P0_Results\\Figures\\All_Acc\\PAMAP_Box_plot_Acc_Task_5.png\" width=\"400\"></td><td><img src=\"PAMAP\\22222\\P0_Results\\Figures\\All_Acc\\PAMAP_P0_All_Acc.png\" width=\"400\"></td></tr><tr><td><img src=\"PAMAP\\22222\\P0_Results\\Figures\\New_Acc\\PAMAP_P0_New_Acc.png\" width=\"400\"></td><td><img src=\"PAMAP\\22222\\P0_Results\\Figures\\Old_Acc\\PAMAP_P0_Old_Acc.png\" width=\"400\"></td></tr></table><br>"
      ],
      "text/plain": [
       "<IPython.core.display.HTML object>"
      ]
     },
     "metadata": {},
     "output_type": "display_data"
    },
    {
     "data": {
      "text/html": [
       "<h3>PAMAP - 22222 - P1_Results</h3><table style=\"border-collapse: collapse;\"><tr><tr><td><img src=\"PAMAP\\22222\\P1_Results\\Figures\\All_Acc\\PAMAP_Box_plot_Acc_Task_5.png\" width=\"400\"></td><td><img src=\"PAMAP\\22222\\P1_Results\\Figures\\All_Acc\\PAMAP_P1_All_Acc.png\" width=\"400\"></td></tr><tr><td><img src=\"PAMAP\\22222\\P1_Results\\Figures\\New_Acc\\PAMAP_P1_New_Acc.png\" width=\"400\"></td><td><img src=\"PAMAP\\22222\\P1_Results\\Figures\\Old_Acc\\PAMAP_P1_Old_Acc.png\" width=\"400\"></td></tr></table><br>"
      ],
      "text/plain": [
       "<IPython.core.display.HTML object>"
      ]
     },
     "metadata": {},
     "output_type": "display_data"
    },
    {
     "data": {
      "text/html": [
       "<h3>PAMAP - 22222 - P2_Results</h3><table style=\"border-collapse: collapse;\"><tr><tr><td><img src=\"PAMAP\\22222\\P2_Results\\Figures\\All_Acc\\PAMAP_Box_plot_Acc_Task_5.png\" width=\"400\"></td><td><img src=\"PAMAP\\22222\\P2_Results\\Figures\\All_Acc\\PAMAP_P2_All_Acc.png\" width=\"400\"></td></tr><tr><td><img src=\"PAMAP\\22222\\P2_Results\\Figures\\New_Acc\\PAMAP_P2_New_Acc.png\" width=\"400\"></td><td><img src=\"PAMAP\\22222\\P2_Results\\Figures\\Old_Acc\\PAMAP_P2_Old_Acc.png\" width=\"400\"></td></tr></table><br>"
      ],
      "text/plain": [
       "<IPython.core.display.HTML object>"
      ]
     },
     "metadata": {},
     "output_type": "display_data"
    },
    {
     "data": {
      "text/html": [
       "<h3>PAMAP - 2341 - P0_Results</h3><table style=\"border-collapse: collapse;\"><tr><tr><td><img src=\"PAMAP\\2341\\P0_Results\\Figures\\All_Acc\\PAMAP_Box_plot_Acc_Task_4.png\" width=\"400\"></td><td><img src=\"PAMAP\\2341\\P0_Results\\Figures\\All_Acc\\PAMAP_P0_All_Acc.png\" width=\"400\"></td></tr><tr><td><img src=\"PAMAP\\2341\\P0_Results\\Figures\\New_Acc\\PAMAP_P0_New_Acc.png\" width=\"400\"></td><td><img src=\"PAMAP\\2341\\P0_Results\\Figures\\Old_Acc\\PAMAP_P0_Old_Acc.png\" width=\"400\"></td></tr></table><br>"
      ],
      "text/plain": [
       "<IPython.core.display.HTML object>"
      ]
     },
     "metadata": {},
     "output_type": "display_data"
    },
    {
     "data": {
      "text/html": [
       "<h3>PAMAP - 2341 - P1_Results</h3><table style=\"border-collapse: collapse;\"><tr><tr><td><img src=\"PAMAP\\2341\\P1_Results\\Figures\\All_Acc\\PAMAP_Box_plot_Acc_Task_4.png\" width=\"400\"></td><td><img src=\"PAMAP\\2341\\P1_Results\\Figures\\All_Acc\\PAMAP_P1_All_Acc.png\" width=\"400\"></td></tr><tr><td><img src=\"PAMAP\\2341\\P1_Results\\Figures\\New_Acc\\PAMAP_P1_New_Acc.png\" width=\"400\"></td><td><img src=\"PAMAP\\2341\\P1_Results\\Figures\\Old_Acc\\PAMAP_P1_Old_Acc.png\" width=\"400\"></td></tr></table><br>"
      ],
      "text/plain": [
       "<IPython.core.display.HTML object>"
      ]
     },
     "metadata": {},
     "output_type": "display_data"
    },
    {
     "data": {
      "text/html": [
       "<h3>PAMAP - 2341 - P2_Results</h3><table style=\"border-collapse: collapse;\"><tr><tr><td><img src=\"PAMAP\\2341\\P2_Results\\Figures\\All_Acc\\PAMAP_Box_plot_Acc_Task_4.png\" width=\"400\"></td><td><img src=\"PAMAP\\2341\\P2_Results\\Figures\\All_Acc\\PAMAP_P2_All_Acc.png\" width=\"400\"></td></tr><tr><td><img src=\"PAMAP\\2341\\P2_Results\\Figures\\New_Acc\\PAMAP_P2_New_Acc.png\" width=\"400\"></td><td><img src=\"PAMAP\\2341\\P2_Results\\Figures\\Old_Acc\\PAMAP_P2_Old_Acc.png\" width=\"400\"></td></tr></table><br>"
      ],
      "text/plain": [
       "<IPython.core.display.HTML object>"
      ]
     },
     "metadata": {},
     "output_type": "display_data"
    },
    {
     "data": {
      "text/html": [
       "<h3>PAMAP - 4321 - P0_Results</h3><table style=\"border-collapse: collapse;\"><tr><tr><td><img src=\"PAMAP\\4321\\P0_Results\\Figures\\All_Acc\\PAMAP_Box_plot_Acc_Task_4.png\" width=\"400\"></td><td><img src=\"PAMAP\\4321\\P0_Results\\Figures\\All_Acc\\PAMAP_P0_All_Acc.png\" width=\"400\"></td></tr><tr><td><img src=\"PAMAP\\4321\\P0_Results\\Figures\\New_Acc\\PAMAP_P0_New_Acc.png\" width=\"400\"></td><td><img src=\"PAMAP\\4321\\P0_Results\\Figures\\Old_Acc\\PAMAP_P0_Old_Acc.png\" width=\"400\"></td></tr></table><br>"
      ],
      "text/plain": [
       "<IPython.core.display.HTML object>"
      ]
     },
     "metadata": {},
     "output_type": "display_data"
    },
    {
     "data": {
      "text/html": [
       "<h3>PAMAP - 4321 - P1_Results</h3><table style=\"border-collapse: collapse;\"><tr><tr><td><img src=\"PAMAP\\4321\\P1_Results\\Figures\\All_Acc\\PAMAP_Box_plot_Acc_Task_4.png\" width=\"400\"></td><td><img src=\"PAMAP\\4321\\P1_Results\\Figures\\All_Acc\\PAMAP_P1_All_Acc.png\" width=\"400\"></td></tr><tr><td><img src=\"PAMAP\\4321\\P1_Results\\Figures\\New_Acc\\PAMAP_P1_New_Acc.png\" width=\"400\"></td><td><img src=\"PAMAP\\4321\\P1_Results\\Figures\\Old_Acc\\PAMAP_P1_Old_Acc.png\" width=\"400\"></td></tr></table><br>"
      ],
      "text/plain": [
       "<IPython.core.display.HTML object>"
      ]
     },
     "metadata": {},
     "output_type": "display_data"
    },
    {
     "data": {
      "text/html": [
       "<h3>PAMAP - 4321 - P2_Results</h3><table style=\"border-collapse: collapse;\"><tr><tr><td><img src=\"PAMAP\\4321\\P2_Results\\Figures\\All_Acc\\PAMAP_Box_plot_Acc_Task_4.png\" width=\"400\"></td><td><img src=\"PAMAP\\4321\\P2_Results\\Figures\\All_Acc\\PAMAP_P2_All_Acc.png\" width=\"400\"></td></tr><tr><td><img src=\"PAMAP\\4321\\P2_Results\\Figures\\New_Acc\\PAMAP_P2_New_Acc.png\" width=\"400\"></td><td><img src=\"PAMAP\\4321\\P2_Results\\Figures\\Old_Acc\\PAMAP_P2_Old_Acc.png\" width=\"400\"></td></tr></table><br>"
      ],
      "text/plain": [
       "<IPython.core.display.HTML object>"
      ]
     },
     "metadata": {},
     "output_type": "display_data"
    },
    {
     "data": {
      "text/html": [
       "<h3>PAMAP - 433 - P0_Results</h3><table style=\"border-collapse: collapse;\"><tr><tr><td><img src=\"PAMAP\\433\\P0_Results\\Figures\\All_Acc\\PAMAP_Box_plot_Acc_Task_3.png\" width=\"400\"></td><td><img src=\"PAMAP\\433\\P0_Results\\Figures\\All_Acc\\PAMAP_P0_All_Acc.png\" width=\"400\"></td></tr><tr><td><img src=\"PAMAP\\433\\P0_Results\\Figures\\New_Acc\\PAMAP_P0_New_Acc.png\" width=\"400\"></td><td><img src=\"PAMAP\\433\\P0_Results\\Figures\\Old_Acc\\PAMAP_P0_Old_Acc.png\" width=\"400\"></td></tr></table><br>"
      ],
      "text/plain": [
       "<IPython.core.display.HTML object>"
      ]
     },
     "metadata": {},
     "output_type": "display_data"
    },
    {
     "data": {
      "text/html": [
       "<h3>PAMAP - 433 - P1_Results</h3><table style=\"border-collapse: collapse;\"><tr><tr><td><img src=\"PAMAP\\433\\P1_Results\\Figures\\All_Acc\\PAMAP_Box_plot_Acc_Task_3.png\" width=\"400\"></td><td><img src=\"PAMAP\\433\\P1_Results\\Figures\\All_Acc\\PAMAP_P1_All_Acc.png\" width=\"400\"></td></tr><tr><td><img src=\"PAMAP\\433\\P1_Results\\Figures\\New_Acc\\PAMAP_P1_New_Acc.png\" width=\"400\"></td><td><img src=\"PAMAP\\433\\P1_Results\\Figures\\Old_Acc\\PAMAP_P1_Old_Acc.png\" width=\"400\"></td></tr></table><br>"
      ],
      "text/plain": [
       "<IPython.core.display.HTML object>"
      ]
     },
     "metadata": {},
     "output_type": "display_data"
    },
    {
     "data": {
      "text/html": [
       "<h3>PAMAP - 433 - P2_Results</h3><table style=\"border-collapse: collapse;\"><tr><tr><td><img src=\"PAMAP\\433\\P2_Results\\Figures\\All_Acc\\PAMAP_Box_plot_Acc_Task_3.png\" width=\"400\"></td><td><img src=\"PAMAP\\433\\P2_Results\\Figures\\All_Acc\\PAMAP_P2_All_Acc.png\" width=\"400\"></td></tr><tr><td><img src=\"PAMAP\\433\\P2_Results\\Figures\\New_Acc\\PAMAP_P2_New_Acc.png\" width=\"400\"></td><td><img src=\"PAMAP\\433\\P2_Results\\Figures\\Old_Acc\\PAMAP_P2_Old_Acc.png\" width=\"400\"></td></tr></table><br>"
      ],
      "text/plain": [
       "<IPython.core.display.HTML object>"
      ]
     },
     "metadata": {},
     "output_type": "display_data"
    },
    {
     "data": {
      "text/html": [
       "<h3>PAMAP - 532 - P0_Results</h3><table style=\"border-collapse: collapse;\"><tr><tr><td><img src=\"PAMAP\\532\\P0_Results\\Figures\\All_Acc\\PAMAP_Box_plot_Acc_Task_3.png\" width=\"400\"></td><td><img src=\"PAMAP\\532\\P0_Results\\Figures\\All_Acc\\PAMAP_P0_All_Acc.png\" width=\"400\"></td></tr><tr><td><img src=\"PAMAP\\532\\P0_Results\\Figures\\New_Acc\\PAMAP_P0_New_Acc.png\" width=\"400\"></td><td><img src=\"PAMAP\\532\\P0_Results\\Figures\\Old_Acc\\PAMAP_P0_Old_Acc.png\" width=\"400\"></td></tr></table><br>"
      ],
      "text/plain": [
       "<IPython.core.display.HTML object>"
      ]
     },
     "metadata": {},
     "output_type": "display_data"
    },
    {
     "data": {
      "text/html": [
       "<h3>PAMAP - 532 - P1_Results</h3><table style=\"border-collapse: collapse;\"><tr><tr><td><img src=\"PAMAP\\532\\P1_Results\\Figures\\All_Acc\\PAMAP_Box_plot_Acc_Task_3.png\" width=\"400\"></td><td><img src=\"PAMAP\\532\\P1_Results\\Figures\\All_Acc\\PAMAP_P1_All_Acc.png\" width=\"400\"></td></tr><tr><td><img src=\"PAMAP\\532\\P1_Results\\Figures\\New_Acc\\PAMAP_P1_New_Acc.png\" width=\"400\"></td><td><img src=\"PAMAP\\532\\P1_Results\\Figures\\Old_Acc\\PAMAP_P1_Old_Acc.png\" width=\"400\"></td></tr></table><br>"
      ],
      "text/plain": [
       "<IPython.core.display.HTML object>"
      ]
     },
     "metadata": {},
     "output_type": "display_data"
    },
    {
     "data": {
      "text/html": [
       "<h3>PAMAP - 532 - P2_Results</h3><table style=\"border-collapse: collapse;\"><tr><tr><td><img src=\"PAMAP\\532\\P2_Results\\Figures\\All_Acc\\PAMAP_Box_plot_Acc_Task_3.png\" width=\"400\"></td><td><img src=\"PAMAP\\532\\P2_Results\\Figures\\All_Acc\\PAMAP_P2_All_Acc.png\" width=\"400\"></td></tr><tr><td><img src=\"PAMAP\\532\\P2_Results\\Figures\\New_Acc\\PAMAP_P2_New_Acc.png\" width=\"400\"></td><td><img src=\"PAMAP\\532\\P2_Results\\Figures\\Old_Acc\\PAMAP_P2_Old_Acc.png\" width=\"400\"></td></tr></table><br>"
      ],
      "text/plain": [
       "<IPython.core.display.HTML object>"
      ]
     },
     "metadata": {},
     "output_type": "display_data"
    },
    {
     "data": {
      "text/html": [
       "<h3>PAMAP - 64 - P0_Results</h3><table style=\"border-collapse: collapse;\"><tr><tr><td><img src=\"PAMAP\\64\\P0_Results\\Figures\\All_Acc\\PAMAP_Box_plot_Acc_Task_2.png\" width=\"400\"></td><td><img src=\"PAMAP\\64\\P0_Results\\Figures\\All_Acc\\PAMAP_P0_All_Acc.png\" width=\"400\"></td></tr><tr><td><img src=\"PAMAP\\64\\P0_Results\\Figures\\New_Acc\\PAMAP_P0_New_Acc.png\" width=\"400\"></td><td><img src=\"PAMAP\\64\\P0_Results\\Figures\\Old_Acc\\PAMAP_P0_Old_Acc.png\" width=\"400\"></td></tr></table><br>"
      ],
      "text/plain": [
       "<IPython.core.display.HTML object>"
      ]
     },
     "metadata": {},
     "output_type": "display_data"
    },
    {
     "data": {
      "text/html": [
       "<h3>PAMAP - 64 - P1_Results</h3><table style=\"border-collapse: collapse;\"><tr><tr><td><img src=\"PAMAP\\64\\P1_Results\\Figures\\All_Acc\\PAMAP_Box_plot_Acc_Task_2.png\" width=\"400\"></td><td><img src=\"PAMAP\\64\\P1_Results\\Figures\\All_Acc\\PAMAP_P1_All_Acc.png\" width=\"400\"></td></tr><tr><td><img src=\"PAMAP\\64\\P1_Results\\Figures\\New_Acc\\PAMAP_P1_New_Acc.png\" width=\"400\"></td><td><img src=\"PAMAP\\64\\P1_Results\\Figures\\Old_Acc\\PAMAP_P1_Old_Acc.png\" width=\"400\"></td></tr></table><br>"
      ],
      "text/plain": [
       "<IPython.core.display.HTML object>"
      ]
     },
     "metadata": {},
     "output_type": "display_data"
    },
    {
     "data": {
      "text/html": [
       "<h3>PAMAP - 64 - P2_Results</h3><table style=\"border-collapse: collapse;\"><tr><tr><td><img src=\"PAMAP\\64\\P2_Results\\Figures\\All_Acc\\PAMAP_Box_plot_Acc_Task_2.png\" width=\"400\"></td><td><img src=\"PAMAP\\64\\P2_Results\\Figures\\All_Acc\\PAMAP_P2_All_Acc.png\" width=\"400\"></td></tr><tr><td><img src=\"PAMAP\\64\\P2_Results\\Figures\\New_Acc\\PAMAP_P2_New_Acc.png\" width=\"400\"></td><td><img src=\"PAMAP\\64\\P2_Results\\Figures\\Old_Acc\\PAMAP_P2_Old_Acc.png\" width=\"400\"></td></tr></table><br>"
      ],
      "text/plain": [
       "<IPython.core.display.HTML object>"
      ]
     },
     "metadata": {},
     "output_type": "display_data"
    }
   ],
   "source": []
  },
  {
   "cell_type": "code",
   "execution_count": null,
   "id": "5c0d7f27-0a1f-4cab-b531-0708e473af1f",
   "metadata": {},
   "outputs": [],
   "source": []
  }
 ],
 "metadata": {
  "kernelspec": {
   "display_name": "Python 3 (ipykernel)",
   "language": "python",
   "name": "python3"
  },
  "language_info": {
   "codemirror_mode": {
    "name": "ipython",
    "version": 3
   },
   "file_extension": ".py",
   "mimetype": "text/x-python",
   "name": "python",
   "nbconvert_exporter": "python",
   "pygments_lexer": "ipython3",
   "version": "3.12.0"
  }
 },
 "nbformat": 4,
 "nbformat_minor": 5
}
