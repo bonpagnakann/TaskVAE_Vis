{
 "cells": [
  {
   "cell_type": "code",
   "execution_count": null,
   "id": "2b30afae-ef96-4f96-9c38-65f8bf6786b8",
   "metadata": {},
   "outputs": [],
   "source": []
  },
  {
   "cell_type": "code",
   "execution_count": 1,
   "id": "f084d78c-07fa-45fa-9fda-c5cda0e31f1a",
   "metadata": {},
   "outputs": [
    {
     "data": {
      "text/html": [
       "\n",
       "<style>\n",
       "    .center-table { \n",
       "        margin: auto; \n",
       "        width: 90%;  /* Increased width */\n",
       "        text-align: center;\n",
       "    }\n",
       "    .image-title {\n",
       "        font-size: 22px; /* Larger text size */\n",
       "        font-weight: bold;\n",
       "        margin-bottom: 15px;\n",
       "    }\n",
       "    .error-text {\n",
       "        font-size: 20px;\n",
       "        font-weight: bold;\n",
       "        color: red;\n",
       "    }\n",
       "</style>\n",
       "<h2 style=\"text-align:center; font-size: 26px;\">P2 Results</h2><table class=\"center-table\" border=\"1\"><tr><td><p class=\"image-title\">All Accuracy</p><img src=\"Table_Results\\P2\\P2_All_Acc.png\" width=\"1000\"></td></tr><tr><td><p class=\"image-title\">New Accuracy</p><img src=\"Table_Results\\P2\\P2_New_Acc.png\" width=\"1000\"></td></tr><tr><td><p class=\"image-title\">Old Accuracy</p><img src=\"Table_Results\\P2\\P2_Old_Acc.png\" width=\"1000\"></td></tr></table><br>"
      ],
      "text/plain": [
       "<IPython.core.display.HTML object>"
      ]
     },
     "metadata": {},
     "output_type": "display_data"
    }
   ],
   "source": [
    "import os\n",
    "from IPython.display import display, HTML\n",
    "\n",
    "# Define persons\n",
    "persons = [\"P2\"]\n",
    "image_folder = \"Table_Results\"\n",
    "\n",
    "# Start HTML content with larger and centered styles\n",
    "html_content = \"\"\"\n",
    "<style>\n",
    "    .center-table { \n",
    "        margin: auto; \n",
    "        width: 90%;  /* Increased width */\n",
    "        text-align: center;\n",
    "    }\n",
    "    .image-title {\n",
    "        font-size: 22px; /* Larger text size */\n",
    "        font-weight: bold;\n",
    "        margin-bottom: 15px;\n",
    "    }\n",
    "    .error-text {\n",
    "        font-size: 20px;\n",
    "        font-weight: bold;\n",
    "        color: red;\n",
    "    }\n",
    "</style>\n",
    "\"\"\"\n",
    "\n",
    "# Loop through persons and generate table\n",
    "for person in persons:\n",
    "    person_folder = os.path.join(image_folder, person)\n",
    "    \n",
    "    # Define expected filenames\n",
    "    all_acc = os.path.join(person_folder, f\"{person}_All_Acc.png\")\n",
    "    new_acc = os.path.join(person_folder, f\"{person}_New_Acc.png\")\n",
    "    old_acc = os.path.join(person_folder, f\"{person}_Old_Acc.png\")\n",
    "\n",
    "    # Generate HTML for each person's results\n",
    "    html_content += f'<h2 style=\"text-align:center; font-size: 26px;\">{person} Results</h2>'\n",
    "    html_content += '<table class=\"center-table\" border=\"1\">'\n",
    "\n",
    "    # Display each image in a single row (1 column layout)\n",
    "    for img_path, img_title in zip([all_acc, new_acc, old_acc], [\"All Accuracy\", \"New Accuracy\", \"Old Accuracy\"]):\n",
    "        html_content += \"<tr>\"\n",
    "        if os.path.exists(img_path):\n",
    "            html_content += f'<td><p class=\"image-title\">{img_title}</p><img src=\"{img_path}\" width=\"1000\"></td>'\n",
    "        else:\n",
    "            html_content += f'<td><p class=\"image-title\">{img_title}</p><p class=\"error-text\">Image not found</p></td>'\n",
    "        html_content += \"</tr>\"\n",
    "\n",
    "    html_content += \"</table><br>\"\n",
    "\n",
    "# Display the generated HTML\n",
    "display(HTML(html_content))\n"
   ]
  },
  {
   "cell_type": "code",
   "execution_count": null,
   "id": "8594bd6d-3dff-4298-8f8b-dd4273af8951",
   "metadata": {},
   "outputs": [],
   "source": []
  }
 ],
 "metadata": {
  "kernelspec": {
   "display_name": "Python 3 (ipykernel)",
   "language": "python",
   "name": "python3"
  },
  "language_info": {
   "codemirror_mode": {
    "name": "ipython",
    "version": 3
   },
   "file_extension": ".py",
   "mimetype": "text/x-python",
   "name": "python",
   "nbconvert_exporter": "python",
   "pygments_lexer": "ipython3",
   "version": "3.12.0"
  }
 },
 "nbformat": 4,
 "nbformat_minor": 5
}
