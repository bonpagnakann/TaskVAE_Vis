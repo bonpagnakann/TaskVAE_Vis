{
 "cells": [
  {
   "cell_type": "code",
   "execution_count": null,
   "id": "570b8e98-291f-4f8d-aa11-5b5f2a29180c",
   "metadata": {},
   "outputs": [],
   "source": []
  },
  {
   "cell_type": "code",
   "execution_count": 1,
   "id": "2f886485-a7b5-4e9a-8f70-6c58e3d08d70",
   "metadata": {},
   "outputs": [
    {
     "data": {
      "text/html": [
       "<h3>UCI - 3111 - P0_Results</h3><table style=\"border-collapse: collapse;\"><tr><tr><td><img src=\"UCI\\3111\\P0_Results\\Figures\\All_Acc\\UCI_Box_plot_Acc_Task_4.png\" width=\"400\"></td><td><img src=\"UCI\\3111\\P0_Results\\Figures\\All_Acc\\UCI_P0_All_Acc.png\" width=\"400\"></td></tr><tr><td><img src=\"UCI\\3111\\P0_Results\\Figures\\New_Acc\\UCI_P0_New_Acc.png\" width=\"400\"></td><td><img src=\"UCI\\3111\\P0_Results\\Figures\\Old_Acc\\UCI_P0_Old_Acc.png\" width=\"400\"></td></tr></table><br>"
      ],
      "text/plain": [
       "<IPython.core.display.HTML object>"
      ]
     },
     "metadata": {},
     "output_type": "display_data"
    },
    {
     "data": {
      "text/html": [
       "<h3>UCI - 3111 - P1_Results</h3><table style=\"border-collapse: collapse;\"><tr><tr><td><img src=\"UCI\\3111\\P1_Results\\Figures\\All_Acc\\UCI_Box_plot_Acc_Task_4.png\" width=\"400\"></td><td><img src=\"UCI\\3111\\P1_Results\\Figures\\All_Acc\\UCI_P1_All_Acc.png\" width=\"400\"></td></tr><tr><td><img src=\"UCI\\3111\\P1_Results\\Figures\\New_Acc\\UCI_P1_New_Acc.png\" width=\"400\"></td><td><img src=\"UCI\\3111\\P1_Results\\Figures\\Old_Acc\\UCI_P1_Old_Acc.png\" width=\"400\"></td></tr></table><br>"
      ],
      "text/plain": [
       "<IPython.core.display.HTML object>"
      ]
     },
     "metadata": {},
     "output_type": "display_data"
    },
    {
     "data": {
      "text/html": [
       "<h3>UCI - 3111 - P2_Results</h3><table style=\"border-collapse: collapse;\"><tr><tr><td><img src=\"UCI\\3111\\P2_Results\\Figures\\All_Acc\\UCI_Box_plot_Acc_Task_4.png\" width=\"400\"></td><td><img src=\"UCI\\3111\\P2_Results\\Figures\\All_Acc\\UCI_P2_All_Acc.png\" width=\"400\"></td></tr><tr><td><img src=\"UCI\\3111\\P2_Results\\Figures\\New_Acc\\UCI_P2_New_Acc.png\" width=\"400\"></td><td><img src=\"UCI\\3111\\P2_Results\\Figures\\Old_Acc\\UCI_P2_Old_Acc.png\" width=\"400\"></td></tr></table><br>"
      ],
      "text/plain": [
       "<IPython.core.display.HTML object>"
      ]
     },
     "metadata": {},
     "output_type": "display_data"
    },
    {
     "data": {
      "text/html": [
       "<h3>UCI - 222 - P0_Results</h3><table style=\"border-collapse: collapse;\"><tr><tr><td><img src=\"UCI\\222\\P0_Results\\Figures\\All_Acc\\UCI_Box_plot_Acc_Task_3.png\" width=\"400\"></td><td><img src=\"UCI\\222\\P0_Results\\Figures\\All_Acc\\UCI_P0_All_Acc.png\" width=\"400\"></td></tr><tr><td><img src=\"UCI\\222\\P0_Results\\Figures\\New_Acc\\UCI_P0_New_Acc.png\" width=\"400\"></td><td><img src=\"UCI\\222\\P0_Results\\Figures\\Old_Acc\\UCI_P0_Old_Acc.png\" width=\"400\"></td></tr></table><br>"
      ],
      "text/plain": [
       "<IPython.core.display.HTML object>"
      ]
     },
     "metadata": {},
     "output_type": "display_data"
    },
    {
     "data": {
      "text/html": [
       "<h3>UCI - 222 - P1_Results</h3><table style=\"border-collapse: collapse;\"><tr><tr><td><img src=\"UCI\\222\\P1_Results\\Figures\\All_Acc\\UCI_Box_plot_Acc_Task_3.png\" width=\"400\"></td><td><img src=\"UCI\\222\\P1_Results\\Figures\\All_Acc\\UCI_P1_All_Acc.png\" width=\"400\"></td></tr><tr><td><img src=\"UCI\\222\\P1_Results\\Figures\\New_Acc\\UCI_P1_New_Acc.png\" width=\"400\"></td><td><img src=\"UCI\\222\\P1_Results\\Figures\\Old_Acc\\UCI_P1_Old_Acc.png\" width=\"400\"></td></tr></table><br>"
      ],
      "text/plain": [
       "<IPython.core.display.HTML object>"
      ]
     },
     "metadata": {},
     "output_type": "display_data"
    },
    {
     "data": {
      "text/html": [
       "<h3>UCI - 222 - P2_Results</h3><table style=\"border-collapse: collapse;\"><tr><tr><td><img src=\"UCI\\222\\P2_Results\\Figures\\All_Acc\\UCI_Box_plot_Acc_Task_3.png\" width=\"400\"></td><td><img src=\"UCI\\222\\P2_Results\\Figures\\All_Acc\\UCI_P2_All_Acc.png\" width=\"400\"></td></tr><tr><td><img src=\"UCI\\222\\P2_Results\\Figures\\New_Acc\\UCI_P2_New_Acc.png\" width=\"400\"></td><td><img src=\"UCI\\222\\P2_Results\\Figures\\Old_Acc\\UCI_P2_Old_Acc.png\" width=\"400\"></td></tr></table><br>"
      ],
      "text/plain": [
       "<IPython.core.display.HTML object>"
      ]
     },
     "metadata": {},
     "output_type": "display_data"
    },
    {
     "data": {
      "text/html": [
       "<h3>UCI - 231 - P0_Results</h3><table style=\"border-collapse: collapse;\"><tr><tr><td><img src=\"UCI\\231\\P0_Results\\Figures\\All_Acc\\UCI_Box_plot_Acc_Task_3.png\" width=\"400\"></td><td><img src=\"UCI\\231\\P0_Results\\Figures\\All_Acc\\UCI_P0_All_Acc.png\" width=\"400\"></td></tr><tr><td><img src=\"UCI\\231\\P0_Results\\Figures\\New_Acc\\UCI_P0_New_Acc.png\" width=\"400\"></td><td><img src=\"UCI\\231\\P0_Results\\Figures\\Old_Acc\\UCI_P0_Old_Acc.png\" width=\"400\"></td></tr></table><br>"
      ],
      "text/plain": [
       "<IPython.core.display.HTML object>"
      ]
     },
     "metadata": {},
     "output_type": "display_data"
    },
    {
     "data": {
      "text/html": [
       "<h3>UCI - 231 - P1_Results</h3><table style=\"border-collapse: collapse;\"><tr><tr><td><img src=\"UCI\\231\\P1_Results\\Figures\\All_Acc\\UCI_Box_plot_Acc_Task_3.png\" width=\"400\"></td><td><img src=\"UCI\\231\\P1_Results\\Figures\\All_Acc\\UCI_P1_All_Acc.png\" width=\"400\"></td></tr><tr><td><img src=\"UCI\\231\\P1_Results\\Figures\\New_Acc\\UCI_P1_New_Acc.png\" width=\"400\"></td><td><img src=\"UCI\\231\\P1_Results\\Figures\\Old_Acc\\UCI_P1_Old_Acc.png\" width=\"400\"></td></tr></table><br>"
      ],
      "text/plain": [
       "<IPython.core.display.HTML object>"
      ]
     },
     "metadata": {},
     "output_type": "display_data"
    },
    {
     "data": {
      "text/html": [
       "<h3>UCI - 231 - P2_Results</h3><table style=\"border-collapse: collapse;\"><tr><tr><td><img src=\"UCI\\231\\P2_Results\\Figures\\All_Acc\\UCI_Box_plot_Acc_Task_3.png\" width=\"400\"></td><td><img src=\"UCI\\231\\P2_Results\\Figures\\All_Acc\\UCI_P2_All_Acc.png\" width=\"400\"></td></tr><tr><td><img src=\"UCI\\231\\P2_Results\\Figures\\New_Acc\\UCI_P2_New_Acc.png\" width=\"400\"></td><td><img src=\"UCI\\231\\P2_Results\\Figures\\Old_Acc\\UCI_P2_Old_Acc.png\" width=\"400\"></td></tr></table><br>"
      ],
      "text/plain": [
       "<IPython.core.display.HTML object>"
      ]
     },
     "metadata": {},
     "output_type": "display_data"
    },
    {
     "data": {
      "text/html": [
       "<h3>UCI - 321 - P0_Results</h3><table style=\"border-collapse: collapse;\"><tr><tr><td><img src=\"UCI\\321\\P0_Results\\Figures\\All_Acc\\UCI_Box_plot_Acc_Task_3.png\" width=\"400\"></td><td><img src=\"UCI\\321\\P0_Results\\Figures\\All_Acc\\UCI_P0_All_Acc.png\" width=\"400\"></td></tr><tr><td><img src=\"UCI\\321\\P0_Results\\Figures\\New_Acc\\UCI_P0_New_Acc.png\" width=\"400\"></td><td><img src=\"UCI\\321\\P0_Results\\Figures\\Old_Acc\\UCI_P0_Old_Acc.png\" width=\"400\"></td></tr></table><br>"
      ],
      "text/plain": [
       "<IPython.core.display.HTML object>"
      ]
     },
     "metadata": {},
     "output_type": "display_data"
    },
    {
     "data": {
      "text/html": [
       "<h3>UCI - 321 - P1_Results</h3><table style=\"border-collapse: collapse;\"><tr><tr><td><img src=\"UCI\\321\\P1_Results\\Figures\\All_Acc\\UCI_Box_plot_Acc_Task_3.png\" width=\"400\"></td><td><img src=\"UCI\\321\\P1_Results\\Figures\\All_Acc\\UCI_P1_All_Acc.png\" width=\"400\"></td></tr><tr><td><img src=\"UCI\\321\\P1_Results\\Figures\\New_Acc\\UCI_P1_New_Acc.png\" width=\"400\"></td><td><img src=\"UCI\\321\\P1_Results\\Figures\\Old_Acc\\UCI_P1_Old_Acc.png\" width=\"400\"></td></tr></table><br>"
      ],
      "text/plain": [
       "<IPython.core.display.HTML object>"
      ]
     },
     "metadata": {},
     "output_type": "display_data"
    },
    {
     "data": {
      "text/html": [
       "<h3>UCI - 321 - P2_Results</h3><table style=\"border-collapse: collapse;\"><tr><tr><td><img src=\"UCI\\321\\P2_Results\\Figures\\All_Acc\\UCI_Box_plot_Acc_Task_3.png\" width=\"400\"></td><td><img src=\"UCI\\321\\P2_Results\\Figures\\All_Acc\\UCI_P2_All_Acc.png\" width=\"400\"></td></tr><tr><td><img src=\"UCI\\321\\P2_Results\\Figures\\New_Acc\\UCI_P2_New_Acc.png\" width=\"400\"></td><td><img src=\"UCI\\321\\P2_Results\\Figures\\Old_Acc\\UCI_P2_Old_Acc.png\" width=\"400\"></td></tr></table><br>"
      ],
      "text/plain": [
       "<IPython.core.display.HTML object>"
      ]
     },
     "metadata": {},
     "output_type": "display_data"
    },
    {
     "data": {
      "text/html": [
       "<h3>UCI - 33 - P0_Results</h3><table style=\"border-collapse: collapse;\"><tr><tr><td><img src=\"UCI\\33\\P0_Results\\Figures\\All_Acc\\UCI_Box_plot_Acc_Task_2.png\" width=\"400\"></td><td><img src=\"UCI\\33\\P0_Results\\Figures\\All_Acc\\UCI_P0_All_Acc.png\" width=\"400\"></td></tr><tr><td><img src=\"UCI\\33\\P0_Results\\Figures\\New_Acc\\UCI_P0_New_Acc.png\" width=\"400\"></td><td><img src=\"UCI\\33\\P0_Results\\Figures\\Old_Acc\\UCI_P0_Old_Acc.png\" width=\"400\"></td></tr></table><br>"
      ],
      "text/plain": [
       "<IPython.core.display.HTML object>"
      ]
     },
     "metadata": {},
     "output_type": "display_data"
    },
    {
     "data": {
      "text/html": [
       "<h3>UCI - 33 - P1_Results</h3><table style=\"border-collapse: collapse;\"><tr><tr><td><img src=\"UCI\\33\\P1_Results\\Figures\\All_Acc\\UCI_Box_plot_Acc_Task_2.png\" width=\"400\"></td><td><img src=\"UCI\\33\\P1_Results\\Figures\\All_Acc\\UCI_P1_All_Acc.png\" width=\"400\"></td></tr><tr><td><img src=\"UCI\\33\\P1_Results\\Figures\\New_Acc\\UCI_P1_New_Acc.png\" width=\"400\"></td><td><img src=\"UCI\\33\\P1_Results\\Figures\\Old_Acc\\UCI_P1_Old_Acc.png\" width=\"400\"></td></tr></table><br>"
      ],
      "text/plain": [
       "<IPython.core.display.HTML object>"
      ]
     },
     "metadata": {},
     "output_type": "display_data"
    },
    {
     "data": {
      "text/html": [
       "<h3>UCI - 33 - P2_Results</h3><table style=\"border-collapse: collapse;\"><tr><tr><td><img src=\"UCI\\33\\P2_Results\\Figures\\All_Acc\\UCI_Box_plot_Acc_Task_2.png\" width=\"400\"></td><td><img src=\"UCI\\33\\P2_Results\\Figures\\All_Acc\\UCI_P2_All_Acc.png\" width=\"400\"></td></tr><tr><td><img src=\"UCI\\33\\P2_Results\\Figures\\New_Acc\\UCI_P2_New_Acc.png\" width=\"400\"></td><td><img src=\"UCI\\33\\P2_Results\\Figures\\Old_Acc\\UCI_P2_Old_Acc.png\" width=\"400\"></td></tr></table><br>"
      ],
      "text/plain": [
       "<IPython.core.display.HTML object>"
      ]
     },
     "metadata": {},
     "output_type": "display_data"
    },
    {
     "data": {
      "text/html": [
       "<h3>UCI - 42 - P0_Results</h3><table style=\"border-collapse: collapse;\"><tr><tr><td><img src=\"UCI\\42\\P0_Results\\Figures\\All_Acc\\UCI_Box_plot_Acc_Task_2.png\" width=\"400\"></td><td><img src=\"UCI\\42\\P0_Results\\Figures\\All_Acc\\P0_All_Acc.png\" width=\"400\"></td></tr><tr><td><img src=\"UCI\\42\\P0_Results\\Figures\\New_Acc\\P0_New_Acc.png\" width=\"400\"></td><td><img src=\"UCI\\42\\P0_Results\\Figures\\Old_Acc\\P0_Old_Acc.png\" width=\"400\"></td></tr></table><br>"
      ],
      "text/plain": [
       "<IPython.core.display.HTML object>"
      ]
     },
     "metadata": {},
     "output_type": "display_data"
    },
    {
     "data": {
      "text/html": [
       "<h3>UCI - 42 - P1_Results</h3><table style=\"border-collapse: collapse;\"><tr><tr><td><img src=\"UCI\\42\\P1_Results\\Figures\\All_Acc\\UCI_Box_plot_Acc_Task_2.png\" width=\"400\"></td><td><img src=\"UCI\\42\\P1_Results\\Figures\\All_Acc\\P1_All_Acc.png\" width=\"400\"></td></tr><tr><td><img src=\"UCI\\42\\P1_Results\\Figures\\New_Acc\\P1_New_Acc.png\" width=\"400\"></td><td><img src=\"UCI\\42\\P1_Results\\Figures\\Old_Acc\\P1_Old_Acc.png\" width=\"400\"></td></tr></table><br>"
      ],
      "text/plain": [
       "<IPython.core.display.HTML object>"
      ]
     },
     "metadata": {},
     "output_type": "display_data"
    },
    {
     "data": {
      "text/html": [
       "<h3>UCI - 42 - P2_Results</h3><table style=\"border-collapse: collapse;\"><tr><tr><td><img src=\"UCI\\42\\P2_Results\\Figures\\All_Acc\\UCI_Box_plot_Acc_Task_2.png\" width=\"400\"></td><td><img src=\"UCI\\42\\P2_Results\\Figures\\All_Acc\\P2_All_Acc.png\" width=\"400\"></td></tr><tr><td><img src=\"UCI\\42\\P2_Results\\Figures\\New_Acc\\P2_New_Acc.png\" width=\"400\"></td><td><img src=\"UCI\\42\\P2_Results\\Figures\\Old_Acc\\P2_Old_Acc.png\" width=\"400\"></td></tr></table><br>"
      ],
      "text/plain": [
       "<IPython.core.display.HTML object>"
      ]
     },
     "metadata": {},
     "output_type": "display_data"
    }
   ],
   "source": []
  },
  {
   "cell_type": "code",
   "execution_count": null,
   "id": "5c0d7f27-0a1f-4cab-b531-0708e473af1f",
   "metadata": {},
   "outputs": [],
   "source": []
  }
 ],
 "metadata": {
  "kernelspec": {
   "display_name": "Python 3 (ipykernel)",
   "language": "python",
   "name": "python3"
  },
  "language_info": {
   "codemirror_mode": {
    "name": "ipython",
    "version": 3
   },
   "file_extension": ".py",
   "mimetype": "text/x-python",
   "name": "python",
   "nbconvert_exporter": "python",
   "pygments_lexer": "ipython3",
   "version": "3.12.0"
  }
 },
 "nbformat": 4,
 "nbformat_minor": 5
}
