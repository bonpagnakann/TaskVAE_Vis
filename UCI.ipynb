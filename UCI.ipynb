{
 "cells": [
  {
   "cell_type": "code",
   "execution_count": null,
   "id": "bbebce1a-b684-4368-be54-ef173c3a21d5",
   "metadata": {},
   "outputs": [],
   "source": []
  },
  {
   "cell_type": "code",
   "execution_count": 2,
   "id": "32953367-8478-4ff4-8820-d2afafa13351",
   "metadata": {
    "ExecuteTime": {
     "end_time": "2025-03-02T17:52:52.142625Z",
     "start_time": "2025-03-02T17:52:51.983303Z"
    }
   },
   "outputs": [
    {
     "data": {
      "text/html": [
       "\n",
       "<style>\n",
       "    .jp-InputPrompt, .jp-Cell-inputWrapper {\n",
       "        display: block !important;\n",
       "    }\n",
       "</style>\n"
      ],
      "text/plain": [
       "<IPython.core.display.HTML object>"
      ]
     },
     "execution_count": 2,
     "metadata": {},
     "output_type": "execute_result"
    }
   ],
   "source": [
    "from IPython.display import HTML\n",
    "\n",
    "HTML('''\n",
    "<style>\n",
    "    .jp-InputPrompt, .jp-Cell-inputWrapper {\n",
    "        display: block !important;\n",
    "    }\n",
    "</style>\n",
    "''')\n"
   ]
  },
  {
   "cell_type": "code",
   "execution_count": null,
   "id": "570b8e98-291f-4f8d-aa11-5b5f2a29180c",
   "metadata": {},
   "outputs": [],
   "source": [
    "from IPython.display import HTML\n",
    "\n",
    "HTML('''\n",
    "<style>\n",
    "    .jp-InputPrompt, .jp-Cell-inputWrapper {\n",
    "        display: none !important;\n",
    "    }\n",
    "</style>\n",
    "''')\n"
   ]
  },
  {
   "cell_type": "code",
   "execution_count": 1,
   "id": "2f886485-a7b5-4e9a-8f70-6c58e3d08d70",
   "metadata": {},
   "outputs": [
    {
     "data": {
      "text/html": [
       "<h3>UCI - 3111 - P0_Results</h3><table style=\"border-collapse: collapse;\"><tr><tr><td><img src=\"UCI\\3111\\P0_Results\\Figures\\All_Acc\\UCI_Box_plot_Acc_Task_4.png\" width=\"400\"></td><td><img src=\"UCI\\3111\\P0_Results\\Figures\\All_Acc\\UCI_P0_All_Acc.png\" width=\"400\"></td></tr><tr><td><img src=\"UCI\\3111\\P0_Results\\Figures\\New_Acc\\UCI_P0_New_Acc.png\" width=\"400\"></td><td><img src=\"UCI\\3111\\P0_Results\\Figures\\Old_Acc\\UCI_P0_Old_Acc.png\" width=\"400\"></td></tr></table><br>"
      ],
      "text/plain": [
       "<IPython.core.display.HTML object>"
      ]
     },
     "metadata": {},
     "output_type": "display_data"
    },
    {
     "data": {
      "text/html": [
       "<h3>UCI - 3111 - P1_Results</h3><table style=\"border-collapse: collapse;\"><tr><tr><td><img src=\"UCI\\3111\\P1_Results\\Figures\\All_Acc\\UCI_Box_plot_Acc_Task_4.png\" width=\"400\"></td><td><img src=\"UCI\\3111\\P1_Results\\Figures\\All_Acc\\UCI_P1_All_Acc.png\" width=\"400\"></td></tr><tr><td><img src=\"UCI\\3111\\P1_Results\\Figures\\New_Acc\\UCI_P1_New_Acc.png\" width=\"400\"></td><td><img src=\"UCI\\3111\\P1_Results\\Figures\\Old_Acc\\UCI_P1_Old_Acc.png\" width=\"400\"></td></tr></table><br>"
      ],
      "text/plain": [
       "<IPython.core.display.HTML object>"
      ]
     },
     "metadata": {},
     "output_type": "display_data"
    },
    {
     "data": {
      "text/html": [
       "<h3>UCI - 3111 - P2_Results</h3><table style=\"border-collapse: collapse;\"><tr><tr><td><img src=\"UCI\\3111\\P2_Results\\Figures\\All_Acc\\UCI_Box_plot_Acc_Task_4.png\" width=\"400\"></td><td><img src=\"UCI\\3111\\P2_Results\\Figures\\All_Acc\\UCI_P2_All_Acc.png\" width=\"400\"></td></tr><tr><td><img src=\"UCI\\3111\\P2_Results\\Figures\\New_Acc\\UCI_P2_New_Acc.png\" width=\"400\"></td><td><img src=\"UCI\\3111\\P2_Results\\Figures\\Old_Acc\\UCI_P2_Old_Acc.png\" width=\"400\"></td></tr></table><br>"
      ],
      "text/plain": [
       "<IPython.core.display.HTML object>"
      ]
     },
     "metadata": {},
     "output_type": "display_data"
    },
    {
     "data": {
      "text/html": [
       "<h3>UCI - 222 - P0_Results</h3><table style=\"border-collapse: collapse;\"><tr><tr><td><img src=\"UCI\\222\\P0_Results\\Figures\\All_Acc\\UCI_Box_plot_Acc_Task_3.png\" width=\"400\"></td><td><img src=\"UCI\\222\\P0_Results\\Figures\\All_Acc\\UCI_P0_All_Acc.png\" width=\"400\"></td></tr><tr><td><img src=\"UCI\\222\\P0_Results\\Figures\\New_Acc\\UCI_P0_New_Acc.png\" width=\"400\"></td><td><img src=\"UCI\\222\\P0_Results\\Figures\\Old_Acc\\UCI_P0_Old_Acc.png\" width=\"400\"></td></tr></table><br>"
      ],
      "text/plain": [
       "<IPython.core.display.HTML object>"
      ]
     },
     "metadata": {},
     "output_type": "display_data"
    },
    {
     "data": {
      "text/html": [
       "<h3>UCI - 222 - P1_Results</h3><table style=\"border-collapse: collapse;\"><tr><tr><td><img src=\"UCI\\222\\P1_Results\\Figures\\All_Acc\\UCI_Box_plot_Acc_Task_3.png\" width=\"400\"></td><td><img src=\"UCI\\222\\P1_Results\\Figures\\All_Acc\\UCI_P1_All_Acc.png\" width=\"400\"></td></tr><tr><td><img src=\"UCI\\222\\P1_Results\\Figures\\New_Acc\\UCI_P1_New_Acc.png\" width=\"400\"></td><td><img src=\"UCI\\222\\P1_Results\\Figures\\Old_Acc\\UCI_P1_Old_Acc.png\" width=\"400\"></td></tr></table><br>"
      ],
      "text/plain": [
       "<IPython.core.display.HTML object>"
      ]
     },
     "metadata": {},
     "output_type": "display_data"
    },
    {
     "data": {
      "text/html": [
       "<h3>UCI - 222 - P2_Results</h3><table style=\"border-collapse: collapse;\"><tr><tr><td><img src=\"UCI\\222\\P2_Results\\Figures\\All_Acc\\UCI_Box_plot_Acc_Task_3.png\" width=\"400\"></td><td><img src=\"UCI\\222\\P2_Results\\Figures\\All_Acc\\UCI_P2_All_Acc.png\" width=\"400\"></td></tr><tr><td><img src=\"UCI\\222\\P2_Results\\Figures\\New_Acc\\UCI_P2_New_Acc.png\" width=\"400\"></td><td><img src=\"UCI\\222\\P2_Results\\Figures\\Old_Acc\\UCI_P2_Old_Acc.png\" width=\"400\"></td></tr></table><br>"
      ],
      "text/plain": [
       "<IPython.core.display.HTML object>"
      ]
     },
     "metadata": {},
     "output_type": "display_data"
    },
    {
     "data": {
      "text/html": [
       "<h3>UCI - 231 - P0_Results</h3><table style=\"border-collapse: collapse;\"><tr><tr><td><img src=\"UCI\\231\\P0_Results\\Figures\\All_Acc\\UCI_Box_plot_Acc_Task_3.png\" width=\"400\"></td><td><img src=\"UCI\\231\\P0_Results\\Figures\\All_Acc\\UCI_P0_All_Acc.png\" width=\"400\"></td></tr><tr><td><img src=\"UCI\\231\\P0_Results\\Figures\\New_Acc\\UCI_P0_New_Acc.png\" width=\"400\"></td><td><img src=\"UCI\\231\\P0_Results\\Figures\\Old_Acc\\UCI_P0_Old_Acc.png\" width=\"400\"></td></tr></table><br>"
      ],
      "text/plain": [
       "<IPython.core.display.HTML object>"
      ]
     },
     "metadata": {},
     "output_type": "display_data"
    },
    {
     "data": {
      "text/html": [
       "<h3>UCI - 231 - P1_Results</h3><table style=\"border-collapse: collapse;\"><tr><tr><td><img src=\"UCI\\231\\P1_Results\\Figures\\All_Acc\\UCI_Box_plot_Acc_Task_3.png\" width=\"400\"></td><td><img src=\"UCI\\231\\P1_Results\\Figures\\All_Acc\\UCI_P1_All_Acc.png\" width=\"400\"></td></tr><tr><td><img src=\"UCI\\231\\P1_Results\\Figures\\New_Acc\\UCI_P1_New_Acc.png\" width=\"400\"></td><td><img src=\"UCI\\231\\P1_Results\\Figures\\Old_Acc\\UCI_P1_Old_Acc.png\" width=\"400\"></td></tr></table><br>"
      ],
      "text/plain": [
       "<IPython.core.display.HTML object>"
      ]
     },
     "metadata": {},
     "output_type": "display_data"
    },
    {
     "data": {
      "text/html": [
       "<h3>UCI - 231 - P2_Results</h3><table style=\"border-collapse: collapse;\"><tr><tr><td><img src=\"UCI\\231\\P2_Results\\Figures\\All_Acc\\UCI_Box_plot_Acc_Task_3.png\" width=\"400\"></td><td><img src=\"UCI\\231\\P2_Results\\Figures\\All_Acc\\UCI_P2_All_Acc.png\" width=\"400\"></td></tr><tr><td><img src=\"UCI\\231\\P2_Results\\Figures\\New_Acc\\UCI_P2_New_Acc.png\" width=\"400\"></td><td><img src=\"UCI\\231\\P2_Results\\Figures\\Old_Acc\\UCI_P2_Old_Acc.png\" width=\"400\"></td></tr></table><br>"
      ],
      "text/plain": [
       "<IPython.core.display.HTML object>"
      ]
     },
     "metadata": {},
     "output_type": "display_data"
    },
    {
     "data": {
      "text/html": [
       "<h3>UCI - 321 - P0_Results</h3><table style=\"border-collapse: collapse;\"><tr><tr><td><img src=\"UCI\\321\\P0_Results\\Figures\\All_Acc\\UCI_Box_plot_Acc_Task_3.png\" width=\"400\"></td><td><img src=\"UCI\\321\\P0_Results\\Figures\\All_Acc\\UCI_P0_All_Acc.png\" width=\"400\"></td></tr><tr><td><img src=\"UCI\\321\\P0_Results\\Figures\\New_Acc\\UCI_P0_New_Acc.png\" width=\"400\"></td><td><img src=\"UCI\\321\\P0_Results\\Figures\\Old_Acc\\UCI_P0_Old_Acc.png\" width=\"400\"></td></tr></table><br>"
      ],
      "text/plain": [
       "<IPython.core.display.HTML object>"
      ]
     },
     "metadata": {},
     "output_type": "display_data"
    },
    {
     "data": {
      "text/html": [
       "<h3>UCI - 321 - P1_Results</h3><table style=\"border-collapse: collapse;\"><tr><tr><td><img src=\"UCI\\321\\P1_Results\\Figures\\All_Acc\\UCI_Box_plot_Acc_Task_3.png\" width=\"400\"></td><td><img src=\"UCI\\321\\P1_Results\\Figures\\All_Acc\\UCI_P1_All_Acc.png\" width=\"400\"></td></tr><tr><td><img src=\"UCI\\321\\P1_Results\\Figures\\New_Acc\\UCI_P1_New_Acc.png\" width=\"400\"></td><td><img src=\"UCI\\321\\P1_Results\\Figures\\Old_Acc\\UCI_P1_Old_Acc.png\" width=\"400\"></td></tr></table><br>"
      ],
      "text/plain": [
       "<IPython.core.display.HTML object>"
      ]
     },
     "metadata": {},
     "output_type": "display_data"
    },
    {
     "data": {
      "text/html": [
       "<h3>UCI - 321 - P2_Results</h3><table style=\"border-collapse: collapse;\"><tr><tr><td><img src=\"UCI\\321\\P2_Results\\Figures\\All_Acc\\UCI_Box_plot_Acc_Task_3.png\" width=\"400\"></td><td><img src=\"UCI\\321\\P2_Results\\Figures\\All_Acc\\UCI_P2_All_Acc.png\" width=\"400\"></td></tr><tr><td><img src=\"UCI\\321\\P2_Results\\Figures\\New_Acc\\UCI_P2_New_Acc.png\" width=\"400\"></td><td><img src=\"UCI\\321\\P2_Results\\Figures\\Old_Acc\\UCI_P2_Old_Acc.png\" width=\"400\"></td></tr></table><br>"
      ],
      "text/plain": [
       "<IPython.core.display.HTML object>"
      ]
     },
     "metadata": {},
     "output_type": "display_data"
    },
    {
     "data": {
      "text/html": [
       "<h3>UCI - 33 - P0_Results</h3><table style=\"border-collapse: collapse;\"><tr><tr><td><img src=\"UCI\\33\\P0_Results\\Figures\\All_Acc\\UCI_Box_plot_Acc_Task_2.png\" width=\"400\"></td><td><img src=\"UCI\\33\\P0_Results\\Figures\\All_Acc\\UCI_P0_All_Acc.png\" width=\"400\"></td></tr><tr><td><img src=\"UCI\\33\\P0_Results\\Figures\\New_Acc\\UCI_P0_New_Acc.png\" width=\"400\"></td><td><img src=\"UCI\\33\\P0_Results\\Figures\\Old_Acc\\UCI_P0_Old_Acc.png\" width=\"400\"></td></tr></table><br>"
      ],
      "text/plain": [
       "<IPython.core.display.HTML object>"
      ]
     },
     "metadata": {},
     "output_type": "display_data"
    },
    {
     "data": {
      "text/html": [
       "<h3>UCI - 33 - P1_Results</h3><table style=\"border-collapse: collapse;\"><tr><tr><td><img src=\"UCI\\33\\P1_Results\\Figures\\All_Acc\\UCI_Box_plot_Acc_Task_2.png\" width=\"400\"></td><td><img src=\"UCI\\33\\P1_Results\\Figures\\All_Acc\\UCI_P1_All_Acc.png\" width=\"400\"></td></tr><tr><td><img src=\"UCI\\33\\P1_Results\\Figures\\New_Acc\\UCI_P1_New_Acc.png\" width=\"400\"></td><td><img src=\"UCI\\33\\P1_Results\\Figures\\Old_Acc\\UCI_P1_Old_Acc.png\" width=\"400\"></td></tr></table><br>"
      ],
      "text/plain": [
       "<IPython.core.display.HTML object>"
      ]
     },
     "metadata": {},
     "output_type": "display_data"
    },
    {
     "data": {
      "text/html": [
       "<h3>UCI - 33 - P2_Results</h3><table style=\"border-collapse: collapse;\"><tr><tr><td><img src=\"UCI\\33\\P2_Results\\Figures\\All_Acc\\UCI_Box_plot_Acc_Task_2.png\" width=\"400\"></td><td><img src=\"UCI\\33\\P2_Results\\Figures\\All_Acc\\UCI_P2_All_Acc.png\" width=\"400\"></td></tr><tr><td><img src=\"UCI\\33\\P2_Results\\Figures\\New_Acc\\UCI_P2_New_Acc.png\" width=\"400\"></td><td><img src=\"UCI\\33\\P2_Results\\Figures\\Old_Acc\\UCI_P2_Old_Acc.png\" width=\"400\"></td></tr></table><br>"
      ],
      "text/plain": [
       "<IPython.core.display.HTML object>"
      ]
     },
     "metadata": {},
     "output_type": "display_data"
    },
    {
     "data": {
      "text/html": [
       "<h3>UCI - 42 - P0_Results</h3><table style=\"border-collapse: collapse;\"><tr><tr><td><img src=\"UCI\\42\\P0_Results\\Figures\\All_Acc\\UCI_Box_plot_Acc_Task_2.png\" width=\"400\"></td><td><img src=\"UCI\\42\\P0_Results\\Figures\\All_Acc\\P0_All_Acc.png\" width=\"400\"></td></tr><tr><td><img src=\"UCI\\42\\P0_Results\\Figures\\New_Acc\\P0_New_Acc.png\" width=\"400\"></td><td><img src=\"UCI\\42\\P0_Results\\Figures\\Old_Acc\\P0_Old_Acc.png\" width=\"400\"></td></tr></table><br>"
      ],
      "text/plain": [
       "<IPython.core.display.HTML object>"
      ]
     },
     "metadata": {},
     "output_type": "display_data"
    },
    {
     "data": {
      "text/html": [
       "<h3>UCI - 42 - P1_Results</h3><table style=\"border-collapse: collapse;\"><tr><tr><td><img src=\"UCI\\42\\P1_Results\\Figures\\All_Acc\\UCI_Box_plot_Acc_Task_2.png\" width=\"400\"></td><td><img src=\"UCI\\42\\P1_Results\\Figures\\All_Acc\\P1_All_Acc.png\" width=\"400\"></td></tr><tr><td><img src=\"UCI\\42\\P1_Results\\Figures\\New_Acc\\P1_New_Acc.png\" width=\"400\"></td><td><img src=\"UCI\\42\\P1_Results\\Figures\\Old_Acc\\P1_Old_Acc.png\" width=\"400\"></td></tr></table><br>"
      ],
      "text/plain": [
       "<IPython.core.display.HTML object>"
      ]
     },
     "metadata": {},
     "output_type": "display_data"
    },
    {
     "data": {
      "text/html": [
       "<h3>UCI - 42 - P2_Results</h3><table style=\"border-collapse: collapse;\"><tr><tr><td><img src=\"UCI\\42\\P2_Results\\Figures\\All_Acc\\UCI_Box_plot_Acc_Task_2.png\" width=\"400\"></td><td><img src=\"UCI\\42\\P2_Results\\Figures\\All_Acc\\P2_All_Acc.png\" width=\"400\"></td></tr><tr><td><img src=\"UCI\\42\\P2_Results\\Figures\\New_Acc\\P2_New_Acc.png\" width=\"400\"></td><td><img src=\"UCI\\42\\P2_Results\\Figures\\Old_Acc\\P2_Old_Acc.png\" width=\"400\"></td></tr></table><br>"
      ],
      "text/plain": [
       "<IPython.core.display.HTML object>"
      ]
     },
     "metadata": {},
     "output_type": "display_data"
    }
   ],
   "source": [
    "import os\n",
    "import re\n",
    "from IPython.display import display, HTML\n",
    "\n",
    "# Define dataset structure\n",
    "scenario_map = {\n",
    "    'UCI': ['3111', '222', '231', '321', '33', '42']\n",
    "}\n",
    "persons = [\"P0_Results\", \"P1_Results\", \"P2_Results\"]\n",
    "acc_types = [\"All_Acc\", \"New_Acc\", \"Old_Acc\"]\n",
    "\n",
    "# Function to find the latest task number from boxplot filenames\n",
    "def find_latest_task(folder_path):\n",
    "    boxplot_files = [f for f in os.listdir(folder_path) if re.match(r\".*_Box_plot_Acc_Task_\\d+\\.png$\", f)]\n",
    "    if not boxplot_files:\n",
    "        return None\n",
    "    latest_file = max(boxplot_files, key=lambda f: int(re.search(r\"Task_(\\d+)\", f).group(1)))\n",
    "    return latest_file\n",
    "\n",
    "# Loop through datasets, scenarios, and persons\n",
    "for dataset in list(scenario_map.keys()):\n",
    "    scenarios = scenario_map.get(dataset, [])\n",
    "    for scenario in scenarios:\n",
    "        for person in persons:\n",
    "            html_content = f\"<h3>{dataset} - {scenario} - {person}</h3>\"\n",
    "            html_content += '<table style=\"border-collapse: collapse;\"><tr>'\n",
    "\n",
    "            # Collect images for this scenario & person\n",
    "            row1 = []  # First row (Boxplot + All_Acc Barchart)\n",
    "            row2 = []  # Second row (New_Acc + Old_Acc Barcharts)\n",
    "\n",
    "            for acc in acc_types:\n",
    "                folder_path = os.path.abspath(f\"{dataset}/{scenario}/{person}/Figures/{acc}\")\n",
    "\n",
    "                if not os.path.exists(folder_path):\n",
    "                    print(f\"❌ Folder Not Found: {folder_path}\")  # Debug\n",
    "                    continue\n",
    "\n",
    "                # Find the boxplot for All_Acc (only need one)\n",
    "                if acc == \"All_Acc\":\n",
    "                    latest_boxplot_file = find_latest_task(folder_path)\n",
    "                    if latest_boxplot_file:\n",
    "                        boxplot_path = os.path.join(folder_path, latest_boxplot_file)\n",
    "                        rel_boxplot_path = os.path.relpath(boxplot_path, os.getcwd())  # Relative path\n",
    "                        row1.append(f'<td><img src=\"{rel_boxplot_path}\" width=\"400\"></td>')\n",
    "\n",
    "                # Find the bar chart for each acc type\n",
    "                barchart_file = next((f for f in os.listdir(folder_path) if f.endswith(\"Acc.png\") and \"Box_plot\" not in f), None)\n",
    "                if barchart_file:\n",
    "                    barchart_path = os.path.join(folder_path, barchart_file)\n",
    "                    rel_barchart_path = os.path.relpath(barchart_path, os.getcwd())  # Relative path\n",
    "\n",
    "                    if acc == \"All_Acc\":\n",
    "                        row1.append(f'<td><img src=\"{rel_barchart_path}\" width=\"400\"></td>')\n",
    "                    elif acc == \"New_Acc\":\n",
    "                        row2.append(f'<td><img src=\"{rel_barchart_path}\" width=\"400\"></td>')\n",
    "                    elif acc == \"Old_Acc\":\n",
    "                        row2.append(f'<td><img src=\"{rel_barchart_path}\" width=\"400\"></td>')\n",
    "\n",
    "            # Ensure exactly 2 images per row\n",
    "            while len(row1) < 2:\n",
    "                row1.append(\"<td></td>\")  # Empty cell if missing images\n",
    "            while len(row2) < 2:\n",
    "                row2.append(\"<td></td>\")  # Empty cell if missing images\n",
    "\n",
    "            # Combine rows into HTML\n",
    "            html_content += \"<tr>\" + \"\".join(row1) + \"</tr>\"\n",
    "            html_content += \"<tr>\" + \"\".join(row2) + \"</tr>\"\n",
    "            html_content += \"</table><br>\"\n",
    "\n",
    "            # Display the formatted layout\n",
    "            display(HTML(html_content))\n"
   ]
  },
  {
   "cell_type": "code",
   "execution_count": null,
   "id": "5c0d7f27-0a1f-4cab-b531-0708e473af1f",
   "metadata": {},
   "outputs": [],
   "source": []
  }
 ],
 "metadata": {
  "kernelspec": {
   "display_name": "Python 3 (ipykernel)",
   "language": "python",
   "name": "python3"
  },
  "language_info": {
   "codemirror_mode": {
    "name": "ipython",
    "version": 3
   },
   "file_extension": ".py",
   "mimetype": "text/x-python",
   "name": "python",
   "nbconvert_exporter": "python",
   "pygments_lexer": "ipython3",
   "version": "3.12.0"
  }
 },
 "nbformat": 4,
 "nbformat_minor": 5
}
