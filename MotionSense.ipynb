{
 "cells": [
  {
   "cell_type": "markdown",
   "id": "5afc606e-c3cb-4bc6-912e-143090130824",
   "metadata": {},
   "source": [
    "## Experimental Results of MotionSense Dataset\n",
    "\n",
    "### Box Plot of Accuracy for All Classes by Tasks\n",
    "The box plots illustrate the accuracy of all classes in the final task for participants (P0, P1, P2) over 30 runs in each scenario. \n",
    "\n",
    "### Bar Charts of Average Metrics by Tasks \n",
    "The bar charts display accuracy metrics (all classes, new classes, and old classes) for participants (P0, P1, P2) over 30 runs across tasks in each scenario. \n",
    "\n",
    "#### Note: \n",
    "The exemplar size for replay-based methods is equivalent to the size of VAE. The methods—Random, EWC-Replay, iCaRL, LUCIR, and TaskVAE—are consistently ordered from left to right per task and are represented by different colors in the legend of each graph.\n",
    "\n",
    "*For a larger view, right-click on the image and select \"Open in a new window.\"*"
   ]
  },
  {
   "cell_type": "code",
   "execution_count": 3,
   "id": "2f886485-a7b5-4e9a-8f70-6c58e3d08d70",
   "metadata": {},
   "outputs": [
    {
     "data": {
      "text/html": [
       "<h3>MotionSense - 21111 - P0_Results</h3><table style=\"border-collapse: collapse;\"><tr><tr><td><img src=\"MotionSense\\21111\\P0_Results\\Figures\\All_Acc\\MotionSense_Box_plot_Acc_Task_5.png\" width=\"400\"></td><td><img src=\"MotionSense\\21111\\P0_Results\\Figures\\All_Acc\\MotionSense_P0_All_Acc.png\" width=\"400\"></td></tr><tr><td><img src=\"MotionSense\\21111\\P0_Results\\Figures\\New_Acc\\MotionSense_P0_New_Acc.png\" width=\"400\"></td><td><img src=\"MotionSense\\21111\\P0_Results\\Figures\\Old_Acc\\MotionSense_P0_Old_Acc.png\" width=\"400\"></td></tr></table><br>"
      ],
      "text/plain": [
       "<IPython.core.display.HTML object>"
      ]
     },
     "metadata": {},
     "output_type": "display_data"
    },
    {
     "data": {
      "text/html": [
       "<h3>MotionSense - 21111 - P1_Results</h3><table style=\"border-collapse: collapse;\"><tr><tr><td><img src=\"MotionSense\\21111\\P1_Results\\Figures\\All_Acc\\MotionSense_Box_plot_Acc_Task_5.png\" width=\"400\"></td><td><img src=\"MotionSense\\21111\\P1_Results\\Figures\\All_Acc\\MotionSense_P1_All_Acc.png\" width=\"400\"></td></tr><tr><td><img src=\"MotionSense\\21111\\P1_Results\\Figures\\New_Acc\\MotionSense_P1_New_Acc.png\" width=\"400\"></td><td><img src=\"MotionSense\\21111\\P1_Results\\Figures\\Old_Acc\\MotionSense_P1_Old_Acc.png\" width=\"400\"></td></tr></table><br>"
      ],
      "text/plain": [
       "<IPython.core.display.HTML object>"
      ]
     },
     "metadata": {},
     "output_type": "display_data"
    },
    {
     "data": {
      "text/html": [
       "<h3>MotionSense - 21111 - P2_Results</h3><table style=\"border-collapse: collapse;\"><tr><tr><td><img src=\"MotionSense\\21111\\P2_Results\\Figures\\All_Acc\\MotionSense_Box_plot_Acc_Task_5.png\" width=\"400\"></td><td><img src=\"MotionSense\\21111\\P2_Results\\Figures\\All_Acc\\MotionSense_P2_All_Acc.png\" width=\"400\"></td></tr><tr><td><img src=\"MotionSense\\21111\\P2_Results\\Figures\\New_Acc\\MotionSense_P2_New_Acc.png\" width=\"400\"></td><td><img src=\"MotionSense\\21111\\P2_Results\\Figures\\Old_Acc\\MotionSense_P2_Old_Acc.png\" width=\"400\"></td></tr></table><br>"
      ],
      "text/plain": [
       "<IPython.core.display.HTML object>"
      ]
     },
     "metadata": {},
     "output_type": "display_data"
    },
    {
     "data": {
      "text/html": [
       "<h3>MotionSense - 3111 - P0_Results</h3><table style=\"border-collapse: collapse;\"><tr><tr><td><img src=\"MotionSense\\3111\\P0_Results\\Figures\\All_Acc\\MotionSense_Box_plot_Acc_Task_4.png\" width=\"400\"></td><td><img src=\"MotionSense\\3111\\P0_Results\\Figures\\All_Acc\\MotionSense_P0_All_Acc.png\" width=\"400\"></td></tr><tr><td><img src=\"MotionSense\\3111\\P0_Results\\Figures\\New_Acc\\MotionSense_P0_New_Acc.png\" width=\"400\"></td><td><img src=\"MotionSense\\3111\\P0_Results\\Figures\\Old_Acc\\MotionSense_P0_Old_Acc.png\" width=\"400\"></td></tr></table><br>"
      ],
      "text/plain": [
       "<IPython.core.display.HTML object>"
      ]
     },
     "metadata": {},
     "output_type": "display_data"
    },
    {
     "data": {
      "text/html": [
       "<h3>MotionSense - 3111 - P1_Results</h3><table style=\"border-collapse: collapse;\"><tr><tr><td><img src=\"MotionSense\\3111\\P1_Results\\Figures\\All_Acc\\MotionSense_Box_plot_Acc_Task_4.png\" width=\"400\"></td><td><img src=\"MotionSense\\3111\\P1_Results\\Figures\\All_Acc\\MotionSense_P1_All_Acc.png\" width=\"400\"></td></tr><tr><td><img src=\"MotionSense\\3111\\P1_Results\\Figures\\New_Acc\\MotionSense_P1_New_Acc.png\" width=\"400\"></td><td><img src=\"MotionSense\\3111\\P1_Results\\Figures\\Old_Acc\\MotionSense_P1_Old_Acc.png\" width=\"400\"></td></tr></table><br>"
      ],
      "text/plain": [
       "<IPython.core.display.HTML object>"
      ]
     },
     "metadata": {},
     "output_type": "display_data"
    },
    {
     "data": {
      "text/html": [
       "<h3>MotionSense - 3111 - P2_Results</h3><table style=\"border-collapse: collapse;\"><tr><tr><td><img src=\"MotionSense\\3111\\P2_Results\\Figures\\All_Acc\\MotionSense_Box_plot_Acc_Task_4.png\" width=\"400\"></td><td><img src=\"MotionSense\\3111\\P2_Results\\Figures\\All_Acc\\MotionSense_P2_All_Acc.png\" width=\"400\"></td></tr><tr><td><img src=\"MotionSense\\3111\\P2_Results\\Figures\\New_Acc\\MotionSense_P2_New_Acc.png\" width=\"400\"></td><td><img src=\"MotionSense\\3111\\P2_Results\\Figures\\Old_Acc\\MotionSense_P2_Old_Acc.png\" width=\"400\"></td></tr></table><br>"
      ],
      "text/plain": [
       "<IPython.core.display.HTML object>"
      ]
     },
     "metadata": {},
     "output_type": "display_data"
    },
    {
     "data": {
      "text/html": [
       "<h3>MotionSense - 222 - P0_Results</h3><table style=\"border-collapse: collapse;\"><tr><tr><td><img src=\"MotionSense\\222\\P0_Results\\Figures\\All_Acc\\MotionSense_Box_plot_Acc_Task_3.png\" width=\"400\"></td><td><img src=\"MotionSense\\222\\P0_Results\\Figures\\All_Acc\\MotionSense_P0_All_Acc.png\" width=\"400\"></td></tr><tr><td><img src=\"MotionSense\\222\\P0_Results\\Figures\\New_Acc\\MotionSense_P0_New_Acc.png\" width=\"400\"></td><td><img src=\"MotionSense\\222\\P0_Results\\Figures\\Old_Acc\\MotionSense_P0_Old_Acc.png\" width=\"400\"></td></tr></table><br>"
      ],
      "text/plain": [
       "<IPython.core.display.HTML object>"
      ]
     },
     "metadata": {},
     "output_type": "display_data"
    },
    {
     "data": {
      "text/html": [
       "<h3>MotionSense - 222 - P1_Results</h3><table style=\"border-collapse: collapse;\"><tr><tr><td><img src=\"MotionSense\\222\\P1_Results\\Figures\\All_Acc\\MotionSense_Box_plot_Acc_Task_3.png\" width=\"400\"></td><td><img src=\"MotionSense\\222\\P1_Results\\Figures\\All_Acc\\MotionSense_P1_All_Acc.png\" width=\"400\"></td></tr><tr><td><img src=\"MotionSense\\222\\P1_Results\\Figures\\New_Acc\\MotionSense_P1_New_Acc.png\" width=\"400\"></td><td><img src=\"MotionSense\\222\\P1_Results\\Figures\\Old_Acc\\MotionSense_P1_Old_Acc.png\" width=\"400\"></td></tr></table><br>"
      ],
      "text/plain": [
       "<IPython.core.display.HTML object>"
      ]
     },
     "metadata": {},
     "output_type": "display_data"
    },
    {
     "data": {
      "text/html": [
       "<h3>MotionSense - 222 - P2_Results</h3><table style=\"border-collapse: collapse;\"><tr><tr><td><img src=\"MotionSense\\222\\P2_Results\\Figures\\All_Acc\\MotionSense_Box_plot_Acc_Task_3.png\" width=\"400\"></td><td><img src=\"MotionSense\\222\\P2_Results\\Figures\\All_Acc\\MotionSense_P2_All_Acc.png\" width=\"400\"></td></tr><tr><td><img src=\"MotionSense\\222\\P2_Results\\Figures\\New_Acc\\MotionSense_P2_New_Acc.png\" width=\"400\"></td><td><img src=\"MotionSense\\222\\P2_Results\\Figures\\Old_Acc\\MotionSense_P2_Old_Acc.png\" width=\"400\"></td></tr></table><br>"
      ],
      "text/plain": [
       "<IPython.core.display.HTML object>"
      ]
     },
     "metadata": {},
     "output_type": "display_data"
    },
    {
     "data": {
      "text/html": [
       "<h3>MotionSense - 231 - P0_Results</h3><table style=\"border-collapse: collapse;\"><tr><tr><td><img src=\"MotionSense\\231\\P0_Results\\Figures\\All_Acc\\MotionSense_Box_plot_Acc_Task_3.png\" width=\"400\"></td><td><img src=\"MotionSense\\231\\P0_Results\\Figures\\All_Acc\\MotionSense_P0_All_Acc.png\" width=\"400\"></td></tr><tr><td><img src=\"MotionSense\\231\\P0_Results\\Figures\\New_Acc\\MotionSense_P0_New_Acc.png\" width=\"400\"></td><td><img src=\"MotionSense\\231\\P0_Results\\Figures\\Old_Acc\\MotionSense_P0_Old_Acc.png\" width=\"400\"></td></tr></table><br>"
      ],
      "text/plain": [
       "<IPython.core.display.HTML object>"
      ]
     },
     "metadata": {},
     "output_type": "display_data"
    },
    {
     "data": {
      "text/html": [
       "<h3>MotionSense - 231 - P1_Results</h3><table style=\"border-collapse: collapse;\"><tr><tr><td><img src=\"MotionSense\\231\\P1_Results\\Figures\\All_Acc\\MotionSense_Box_plot_Acc_Task_3.png\" width=\"400\"></td><td><img src=\"MotionSense\\231\\P1_Results\\Figures\\All_Acc\\MotionSense_P1_All_Acc.png\" width=\"400\"></td></tr><tr><td><img src=\"MotionSense\\231\\P1_Results\\Figures\\New_Acc\\MotionSense_P1_New_Acc.png\" width=\"400\"></td><td><img src=\"MotionSense\\231\\P1_Results\\Figures\\Old_Acc\\MotionSense_P1_Old_Acc.png\" width=\"400\"></td></tr></table><br>"
      ],
      "text/plain": [
       "<IPython.core.display.HTML object>"
      ]
     },
     "metadata": {},
     "output_type": "display_data"
    },
    {
     "data": {
      "text/html": [
       "<h3>MotionSense - 231 - P2_Results</h3><table style=\"border-collapse: collapse;\"><tr><tr><td><img src=\"MotionSense\\231\\P2_Results\\Figures\\All_Acc\\MotionSense_Box_plot_Acc_Task_3.png\" width=\"400\"></td><td><img src=\"MotionSense\\231\\P2_Results\\Figures\\All_Acc\\MotionSense_P2_All_Acc.png\" width=\"400\"></td></tr><tr><td><img src=\"MotionSense\\231\\P2_Results\\Figures\\New_Acc\\MotionSense_P2_New_Acc.png\" width=\"400\"></td><td><img src=\"MotionSense\\231\\P2_Results\\Figures\\Old_Acc\\MotionSense_P2_Old_Acc.png\" width=\"400\"></td></tr></table><br>"
      ],
      "text/plain": [
       "<IPython.core.display.HTML object>"
      ]
     },
     "metadata": {},
     "output_type": "display_data"
    },
    {
     "data": {
      "text/html": [
       "<h3>MotionSense - 321 - P0_Results</h3><table style=\"border-collapse: collapse;\"><tr><tr><td><img src=\"MotionSense\\321\\P0_Results\\Figures\\All_Acc\\MotionSense_Box_plot_Acc_Task_3.png\" width=\"400\"></td><td><img src=\"MotionSense\\321\\P0_Results\\Figures\\All_Acc\\MotionSense_P0_All_Acc.png\" width=\"400\"></td></tr><tr><td><img src=\"MotionSense\\321\\P0_Results\\Figures\\New_Acc\\MotionSense_P0_New_Acc.png\" width=\"400\"></td><td><img src=\"MotionSense\\321\\P0_Results\\Figures\\Old_Acc\\MotionSense_P0_Old_Acc.png\" width=\"400\"></td></tr></table><br>"
      ],
      "text/plain": [
       "<IPython.core.display.HTML object>"
      ]
     },
     "metadata": {},
     "output_type": "display_data"
    },
    {
     "data": {
      "text/html": [
       "<h3>MotionSense - 321 - P1_Results</h3><table style=\"border-collapse: collapse;\"><tr><tr><td><img src=\"MotionSense\\321\\P1_Results\\Figures\\All_Acc\\MotionSense_Box_plot_Acc_Task_3.png\" width=\"400\"></td><td><img src=\"MotionSense\\321\\P1_Results\\Figures\\All_Acc\\MotionSense_P1_All_Acc.png\" width=\"400\"></td></tr><tr><td><img src=\"MotionSense\\321\\P1_Results\\Figures\\New_Acc\\MotionSense_P1_New_Acc.png\" width=\"400\"></td><td><img src=\"MotionSense\\321\\P1_Results\\Figures\\Old_Acc\\MotionSense_P1_Old_Acc.png\" width=\"400\"></td></tr></table><br>"
      ],
      "text/plain": [
       "<IPython.core.display.HTML object>"
      ]
     },
     "metadata": {},
     "output_type": "display_data"
    },
    {
     "data": {
      "text/html": [
       "<h3>MotionSense - 321 - P2_Results</h3><table style=\"border-collapse: collapse;\"><tr><tr><td><img src=\"MotionSense\\321\\P2_Results\\Figures\\All_Acc\\MotionSense_Box_plot_Acc_Task_3.png\" width=\"400\"></td><td><img src=\"MotionSense\\321\\P2_Results\\Figures\\All_Acc\\MotionSense_P2_All_Acc.png\" width=\"400\"></td></tr><tr><td><img src=\"MotionSense\\321\\P2_Results\\Figures\\New_Acc\\MotionSense_P2_New_Acc.png\" width=\"400\"></td><td><img src=\"MotionSense\\321\\P2_Results\\Figures\\Old_Acc\\MotionSense_P2_Old_Acc.png\" width=\"400\"></td></tr></table><br>"
      ],
      "text/plain": [
       "<IPython.core.display.HTML object>"
      ]
     },
     "metadata": {},
     "output_type": "display_data"
    },
    {
     "data": {
      "text/html": [
       "<h3>MotionSense - 33 - P0_Results</h3><table style=\"border-collapse: collapse;\"><tr><tr><td><img src=\"MotionSense\\33\\P0_Results\\Figures\\All_Acc\\MotionSense_Box_plot_Acc_Task_2.png\" width=\"400\"></td><td><img src=\"MotionSense\\33\\P0_Results\\Figures\\All_Acc\\MotionSense_P0_All_Acc.png\" width=\"400\"></td></tr><tr><td><img src=\"MotionSense\\33\\P0_Results\\Figures\\New_Acc\\MotionSense_P0_New_Acc.png\" width=\"400\"></td><td><img src=\"MotionSense\\33\\P0_Results\\Figures\\Old_Acc\\MotionSense_P0_Old_Acc.png\" width=\"400\"></td></tr></table><br>"
      ],
      "text/plain": [
       "<IPython.core.display.HTML object>"
      ]
     },
     "metadata": {},
     "output_type": "display_data"
    },
    {
     "data": {
      "text/html": [
       "<h3>MotionSense - 33 - P1_Results</h3><table style=\"border-collapse: collapse;\"><tr><tr><td><img src=\"MotionSense\\33\\P1_Results\\Figures\\All_Acc\\MotionSense_Box_plot_Acc_Task_2.png\" width=\"400\"></td><td><img src=\"MotionSense\\33\\P1_Results\\Figures\\All_Acc\\MotionSense_P1_All_Acc.png\" width=\"400\"></td></tr><tr><td><img src=\"MotionSense\\33\\P1_Results\\Figures\\New_Acc\\MotionSense_P1_New_Acc.png\" width=\"400\"></td><td><img src=\"MotionSense\\33\\P1_Results\\Figures\\Old_Acc\\MotionSense_P1_Old_Acc.png\" width=\"400\"></td></tr></table><br>"
      ],
      "text/plain": [
       "<IPython.core.display.HTML object>"
      ]
     },
     "metadata": {},
     "output_type": "display_data"
    },
    {
     "data": {
      "text/html": [
       "<h3>MotionSense - 33 - P2_Results</h3><table style=\"border-collapse: collapse;\"><tr><tr><td><img src=\"MotionSense\\33\\P2_Results\\Figures\\All_Acc\\MotionSense_Box_plot_Acc_Task_2.png\" width=\"400\"></td><td><img src=\"MotionSense\\33\\P2_Results\\Figures\\All_Acc\\MotionSense_P2_All_Acc.png\" width=\"400\"></td></tr><tr><td><img src=\"MotionSense\\33\\P2_Results\\Figures\\New_Acc\\MotionSense_P2_New_Acc.png\" width=\"400\"></td><td><img src=\"MotionSense\\33\\P2_Results\\Figures\\Old_Acc\\MotionSense_P2_Old_Acc.png\" width=\"400\"></td></tr></table><br>"
      ],
      "text/plain": [
       "<IPython.core.display.HTML object>"
      ]
     },
     "metadata": {},
     "output_type": "display_data"
    },
    {
     "data": {
      "text/html": [
       "<h3>MotionSense - 42 - P0_Results</h3><table style=\"border-collapse: collapse;\"><tr><tr><td><img src=\"MotionSense\\42\\P0_Results\\Figures\\All_Acc\\MotionSense_Box_plot_Acc_Task_2.png\" width=\"400\"></td><td><img src=\"MotionSense\\42\\P0_Results\\Figures\\All_Acc\\MotionSense_P0_All_Acc.png\" width=\"400\"></td></tr><tr><td><img src=\"MotionSense\\42\\P0_Results\\Figures\\New_Acc\\MotionSense_P0_New_Acc.png\" width=\"400\"></td><td><img src=\"MotionSense\\42\\P0_Results\\Figures\\Old_Acc\\MotionSense_P0_Old_Acc.png\" width=\"400\"></td></tr></table><br>"
      ],
      "text/plain": [
       "<IPython.core.display.HTML object>"
      ]
     },
     "metadata": {},
     "output_type": "display_data"
    },
    {
     "data": {
      "text/html": [
       "<h3>MotionSense - 42 - P1_Results</h3><table style=\"border-collapse: collapse;\"><tr><tr><td><img src=\"MotionSense\\42\\P1_Results\\Figures\\All_Acc\\MotionSense_Box_plot_Acc_Task_2.png\" width=\"400\"></td><td><img src=\"MotionSense\\42\\P1_Results\\Figures\\All_Acc\\MotionSense_P1_All_Acc.png\" width=\"400\"></td></tr><tr><td><img src=\"MotionSense\\42\\P1_Results\\Figures\\New_Acc\\MotionSense_P1_New_Acc.png\" width=\"400\"></td><td><img src=\"MotionSense\\42\\P1_Results\\Figures\\Old_Acc\\MotionSense_P1_Old_Acc.png\" width=\"400\"></td></tr></table><br>"
      ],
      "text/plain": [
       "<IPython.core.display.HTML object>"
      ]
     },
     "metadata": {},
     "output_type": "display_data"
    },
    {
     "data": {
      "text/html": [
       "<h3>MotionSense - 42 - P2_Results</h3><table style=\"border-collapse: collapse;\"><tr><tr><td><img src=\"MotionSense\\42\\P2_Results\\Figures\\All_Acc\\MotionSense_Box_plot_Acc_Task_2.png\" width=\"400\"></td><td><img src=\"MotionSense\\42\\P2_Results\\Figures\\All_Acc\\MotionSense_P2_All_Acc.png\" width=\"400\"></td></tr><tr><td><img src=\"MotionSense\\42\\P2_Results\\Figures\\New_Acc\\MotionSense_P2_New_Acc.png\" width=\"400\"></td><td><img src=\"MotionSense\\42\\P2_Results\\Figures\\Old_Acc\\MotionSense_P2_Old_Acc.png\" width=\"400\"></td></tr></table><br>"
      ],
      "text/plain": [
       "<IPython.core.display.HTML object>"
      ]
     },
     "metadata": {},
     "output_type": "display_data"
    }
   ],
   "source": []
  },
  {
   "cell_type": "code",
   "execution_count": null,
   "id": "bf5d32b1-3397-4615-a8c2-6c25ffee09a1",
   "metadata": {},
   "outputs": [],
   "source": []
  }
 ],
 "metadata": {
  "kernelspec": {
   "display_name": "Python 3 (ipykernel)",
   "language": "python",
   "name": "python3"
  },
  "language_info": {
   "codemirror_mode": {
    "name": "ipython",
    "version": 3
   },
   "file_extension": ".py",
   "mimetype": "text/x-python",
   "name": "python",
   "nbconvert_exporter": "python",
   "pygments_lexer": "ipython3",
   "version": "3.12.0"
  }
 },
 "nbformat": 4,
 "nbformat_minor": 5
}
